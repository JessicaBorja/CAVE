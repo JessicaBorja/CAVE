{
 "cells": [
  {
   "cell_type": "markdown",
   "metadata": {},
   "source": [
    "# CAVE in jupyter"
   ]
  },
  {
   "cell_type": "markdown",
   "metadata": {},
   "source": [
    "## Short introduction to motivation of automated parameter optimization\n",
    "\n",
    "### CAVE\n",
    "\n",
    "CAVE stands for Configuration Assessment, Visualization and Evaluation. It is designed to create comprehensive reports about an optimization process. The resulting figures and interactive plots can be used to gain insights in the parameter importance, feature importance, search behaviour and quality. We will walk you through the different analysis-options, that CAVE offers.\n"
   ]
  },
  {
   "cell_type": "markdown",
   "metadata": {},
   "source": [
    "## Quickstart Guid"
   ]
  },
  {
   "cell_type": "markdown",
   "metadata": {},
   "source": [
    "We will analyze the results of a SMAC-run (...).\n",
    "\n",
    "Please make sure you are in the examples-folder to run this example.\n",
    "We will start by initializing the CAVE-object with three arguments:\n",
    "- *--folders* specifies the path to the directory containing the optimization outputs\n",
    "- *--output-dir* specifies the directory for the analysis-output\n",
    "- *--ta_exec_dir* specifies the path to the directory, from where the optimization was executed. This is important, if any files (like instance-files) are specified in relative paths"
   ]
  },
  {
   "cell_type": "code",
   "execution_count": null,
   "metadata": {
    "scrolled": true
   },
   "outputs": [],
   "source": [
    "from cave.cavefacade import CAVE\n",
    "\n",
    "#cave = CAVE([\"workflow-result\"], \"test_jupyter\", [\".\"], file_format='BOHB')\n",
    "cave = CAVE(folders=[\"./smac3/example_output/run_1\", \"./smac3/example_output/run_2\"],\n",
    "            output_dir=\"cave_on_jupyter\",\n",
    "            ta_exec_dir=[\"./smac3\"],\n",
    "            verbose_level=\"OFF\"\n",
    "           )"
   ]
  },
  {
   "cell_type": "markdown",
   "metadata": {},
   "source": [
    "We can use the CAVE-object to generate general information in tables:"
   ]
  },
  {
   "cell_type": "code",
   "execution_count": null,
   "metadata": {},
   "outputs": [],
   "source": [
    "cave.overview_table()"
   ]
  },
  {
   "cell_type": "code",
   "execution_count": null,
   "metadata": {},
   "outputs": [],
   "source": [
    "cave.compare_default_incumbent()"
   ]
  },
  {
   "cell_type": "markdown",
   "metadata": {},
   "source": [
    "### Performance Analysis\n",
    "To analyze how much better the incumbent is to the default, CAVE provides several methods.\n",
    "Obviously we want to compare the average. If you optimize the runtime of instances, the Penalized Average Runtime (PAR) will be interesting for you, too:"
   ]
  },
  {
   "cell_type": "code",
   "execution_count": null,
   "metadata": {
    "scrolled": false
   },
   "outputs": [],
   "source": [
    "cave.performance_table();"
   ]
  },
  {
   "cell_type": "markdown",
   "metadata": {},
   "source": [
    "Only available for instances, CAVE can provide scatter and cumulated distribution plots (using an EPM to estimate performance of config-instance pairs that were not actually executed). Individual plots will be generated for train and test instances (if distinction is made).\n",
    "Left -> train, right -> test"
   ]
  },
  {
   "cell_type": "code",
   "execution_count": null,
   "metadata": {},
   "outputs": [],
   "source": [
    "cave.plot_scatter()"
   ]
  },
  {
   "cell_type": "code",
   "execution_count": null,
   "metadata": {},
   "outputs": [],
   "source": [
    "cave.plot_ecdf()"
   ]
  },
  {
   "cell_type": "markdown",
   "metadata": {},
   "source": [
    "A special feature of CAVE is the analysis of algorithm footprints. Instances are mapped on a 2d-plot and marked blue if the selected algorithm is better than the other one. Use the tools on the right side to navigate within the plot."
   ]
  },
  {
   "cell_type": "code",
   "execution_count": null,
   "metadata": {},
   "outputs": [],
   "source": [
    "cave.algorithm_footprints()"
   ]
  },
  {
   "cell_type": "markdown",
   "metadata": {},
   "source": [
    "But what is really interesting: CAVE can use the whole information collected during the optimization to gain insights into your configurator's behaviour. The Configurator Footprint might take a little time to generate for big data, but it is a wonderful way to see, how your configurator explored the search space over time."
   ]
  },
  {
   "cell_type": "code",
   "execution_count": null,
   "metadata": {},
   "outputs": [],
   "source": [
    "cave.configurator_footprint()"
   ]
  },
  {
   "cell_type": "code",
   "execution_count": null,
   "metadata": {},
   "outputs": [],
   "source": [
    "cave.feature_importance()"
   ]
  },
  {
   "cell_type": "code",
   "execution_count": null,
   "metadata": {},
   "outputs": [],
   "source": [
    "cave.pimp_forward_selection()"
   ]
  },
  {
   "cell_type": "code",
   "execution_count": null,
   "metadata": {},
   "outputs": [],
   "source": [
    "cave.cave_ablation()"
   ]
  },
  {
   "cell_type": "code",
   "execution_count": null,
   "metadata": {},
   "outputs": [],
   "source": [
    "cave.cave_fanova()"
   ]
  },
  {
   "cell_type": "code",
   "execution_count": null,
   "metadata": {},
   "outputs": [],
   "source": [
    "cave.pimp_comparison_table()"
   ]
  },
  {
   "cell_type": "code",
   "execution_count": null,
   "metadata": {},
   "outputs": [],
   "source": [
    "cave.algorithm_footprints()"
   ]
  },
  {
   "cell_type": "code",
   "execution_count": null,
   "metadata": {},
   "outputs": [],
   "source": [
    "cave.cost_over_time()"
   ]
  },
  {
   "cell_type": "code",
   "execution_count": null,
   "metadata": {},
   "outputs": [],
   "source": [
    "cave.parallel_coordinates()"
   ]
  }
 ],
 "metadata": {
  "kernelspec": {
   "display_name": "CAVE_dev",
   "language": "python",
   "name": "cave_dev"
  },
  "language_info": {
   "codemirror_mode": {
    "name": "ipython",
    "version": 3
   },
   "file_extension": ".py",
   "mimetype": "text/x-python",
   "name": "python",
   "nbconvert_exporter": "python",
   "pygments_lexer": "ipython3",
   "version": "3.8.2"
  }
 },
 "nbformat": 4,
 "nbformat_minor": 2
}
